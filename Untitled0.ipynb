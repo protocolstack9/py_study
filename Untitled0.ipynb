{
  "nbformat": 4,
  "nbformat_minor": 0,
  "metadata": {
    "colab": {
      "name": "Untitled0.ipynb",
      "provenance": [],
      "collapsed_sections": [],
      "mount_file_id": "1JbRjt_U3DsjxHFBSgG-GerbpXs3Be_LG",
      "authorship_tag": "ABX9TyMRnUKlQoPjomGPsblQMv0k",
      "include_colab_link": true
    },
    "kernelspec": {
      "name": "python3",
      "display_name": "Python 3"
    },
    "language_info": {
      "name": "python"
    }
  },
  "cells": [
    {
      "cell_type": "markdown",
      "metadata": {
        "id": "view-in-github",
        "colab_type": "text"
      },
      "source": [
        "<a href=\"https://colab.research.google.com/github/protocolstack9/py_study/blob/master/Untitled0.ipynb\" target=\"_parent\"><img src=\"https://colab.research.google.com/assets/colab-badge.svg\" alt=\"Open In Colab\"/></a>"
      ]
    },
    {
      "cell_type": "code",
      "metadata": {
        "id": "ZfSPyxMuvw_Y"
      },
      "source": [
        "# 시스템 정보\n",
        "!cat /etc/issue.net\n",
        "!cat /proc/cpuinfo\n",
        "!python --version"
      ],
      "execution_count": null,
      "outputs": []
    },
    {
      "cell_type": "code",
      "metadata": {
        "id": "r5rWsFijw9Rr"
      },
      "source": [
        "# 수정 -> 노트 설정 -> GPU로 변경\n",
        "!nvidia-smi"
      ],
      "execution_count": null,
      "outputs": []
    },
    {
      "cell_type": "code",
      "metadata": {
        "id": "2seHc6xoxV-h"
      },
      "source": [
        "# 구글 드라이브 마운트하기\n",
        "# 아래 명령을 실행 -> 출력되는 링크를 클릭해 구글 로그인 -> 로그인 후 생성된 코드를 아래 입력 -> 마운트 확인\n",
        "from google.colab import drive\n",
        "drive.mount('/content/gdrive')"
      ],
      "execution_count": null,
      "outputs": []
    },
    {
      "cell_type": "code",
      "metadata": {
        "id": "ANDD3vaaxzB3"
      },
      "source": [
        ""
      ],
      "execution_count": null,
      "outputs": []
    }
  ]
}