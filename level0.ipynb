{
  "nbformat": 4,
  "nbformat_minor": 0,
  "metadata": {
    "colab": {
      "name": "Untitled0.ipynb",
      "provenance": [],
      "mount_file_id": "1JbRjt_U3DsjxHFBSgG-GerbpXs3Be_LG",
      "authorship_tag": "ABX9TyMGHPgN9PnW3xJk5vZPNg8t",
      "include_colab_link": true
    },
    "kernelspec": {
      "name": "python3",
      "display_name": "Python 3"
    },
    "language_info": {
      "name": "python"
    }
  },
  "cells": [
    {
      "cell_type": "markdown",
      "metadata": {
        "id": "view-in-github",
        "colab_type": "text"
      },
      "source": [
        "<a href=\"https://colab.research.google.com/github/protocolstack9/py_study/blob/master/level0.ipynb\" target=\"_parent\"><img src=\"https://colab.research.google.com/assets/colab-badge.svg\" alt=\"Open In Colab\"/></a>"
      ]
    },
    {
      "cell_type": "code",
      "metadata": {
        "id": "ZfSPyxMuvw_Y"
      },
      "source": [
        "# 시스템 정보\n",
        "!cat /etc/issue.net\n",
        "!cat /proc/cpuinfo\n",
        "!python --version"
      ],
      "execution_count": null,
      "outputs": []
    },
    {
      "cell_type": "code",
      "metadata": {
        "id": "r5rWsFijw9Rr"
      },
      "source": [
        "# 수정 -> 노트 설정 -> GPU로 변경\n",
        "!nvidia-smi"
      ],
      "execution_count": null,
      "outputs": []
    },
    {
      "cell_type": "code",
      "metadata": {
        "id": "2seHc6xoxV-h"
      },
      "source": [
        "# 구글 드라이브 마운트하기\n",
        "# 아래 명령을 실행 -> 출력되는 링크를 클릭해 구글 로그인 -> 로그인 후 생성된 코드를 아래 입력 -> 마운트 확인\n",
        "from google.colab import drive\n",
        "drive.mount('/content/gdrive')"
      ],
      "execution_count": null,
      "outputs": []
    },
    {
      "cell_type": "code",
      "metadata": {
        "id": "ANDD3vaaxzB3"
      },
      "source": [
        "아래와 같은 작업으로 마운트 작업을 진행할 수 있다.\n",
        "\n",
        "1. 파일 메뉴에 들어가서\n",
        "\n",
        "2. 드라이브 마운트 아이콘을 누르고,\n",
        "\n",
        "3. 자동으로 입력되는 명령어를 실행한 후, 위의 예시처럼 연동시킬 계정을 선택하면 마운트 작업이 진행된다.\n",
        "\n",
        "4. 내 계정의 구글 드라이브가 연결되어 있는 것을 확인 할 수 있다."
      ],
      "execution_count": null,
      "outputs": []
    }
  ]
}